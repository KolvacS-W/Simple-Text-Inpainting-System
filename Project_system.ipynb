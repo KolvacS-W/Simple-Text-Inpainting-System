{
  "cells": [
    {
      "cell_type": "code",
      "source": [
        "!pip install transformers\n",
        "!pip install accelerate\n",
        "!pip install SentencePiece"
      ],
      "metadata": {
        "id": "CnWooEpOlwJE"
      },
      "execution_count": null,
      "outputs": []
    },
    {
      "cell_type": "markdown",
      "source": [
        "### load dataset"
      ],
      "metadata": {
        "id": "1OHT0S21l4Ex"
      }
    },
    {
      "cell_type": "code",
      "source": [
        "import pandas as pd\n",
        "\n",
        "origin_df = pd.read_csv('./origin_sentence_withcomma.csv')\n",
        "origin_df.columns = ['sentence']\n",
        "\n",
        "changed_df = pd.read_csv('./changed_sentence_underline.csv')\n",
        "changed_df.columns = ['sentence']\n",
        "\n",
        "# noblank_df = pd.read_csv('./changed_sentence_noblank.csv')\n",
        "# noblank_df.columns = ['sentence']\n",
        "# noblank_df['sentence'][1]"
      ],
      "metadata": {
        "id": "9vNsR_l1j5en"
      },
      "execution_count": 32,
      "outputs": []
    },
    {
      "cell_type": "code",
      "source": [
        "from transformers import T5Tokenizer, T5ForConditionalGeneration\n",
        "from tqdm import tqdm\n",
        "tokenizer = T5Tokenizer.from_pretrained(\"google/flan-t5-xl\")\n",
        "model = T5ForConditionalGeneration.from_pretrained(\"google/flan-t5-xl\").to(\"cuda\")"
      ],
      "metadata": {
        "colab": {
          "base_uri": "https://localhost:8080/",
          "height": 145,
          "referenced_widgets": [
            "b89a375d8ed647939a28f3a27801f9ac",
            "819e96f768dd48a3af9069a2d61e82b1",
            "bf5911cae28243b1b79940e0194c4120",
            "eb58249a78ce45a4badc4d2a2af53951",
            "83d67e518c404fb5a0b9ae980960b328",
            "a1a0cf93d8964e2f932d071db473dd62",
            "42b39f7dcf2941f9a47e80b73aef7007",
            "d98e105ef869489eb48fdeb2924d901f",
            "6b947845118046d3bfa5a0c156177aee",
            "1698b120df7642219eab33ad74e61f20",
            "748c49290d204346a4aefda3c6b1589a",
            "3b316286f464409aa52b1cf7509a8b7e",
            "6b63c70e4e0848ff80460f18577e53d2",
            "1ae0020454ae4f1ab3aa8ad7b1dd43a0",
            "0f68faae96bf45249b29df240fe450a2",
            "a839aab098cb4720beccfe1c2f12bac3",
            "25984f0470cf4b42814f11552ce8fc9f",
            "156491e3dd784ce8883841c9ff6675d4",
            "14f0bd31ed6d47e2a60876fc2e78cab5",
            "850a86f32e4348c99bcd361818fbb5e0",
            "45b9b77d021c4a8ea1b3cf0401acd127",
            "b6ac74aa46d04969bdd612440e7096a6",
            "eedc24de2a364414a40f1af7c72c71ed",
            "625aa0083ade4aeaad1078ee6c55ad25",
            "b04c487985ee43008e2044b858563cb3",
            "ecb39e9b65dd462aaf7df10218096f10",
            "4d998101f61a4907855c84dad5585f41",
            "b8e94e7667d04592b1c4d7ad624ced5d",
            "4d626ebb972241a88df905f2741b1a5f",
            "058aa5c5d6da49d6bf4b55da26515042",
            "aea4e8991d784c36aac6cf73d5ae3aef",
            "d1d75906bf97414f961e80c6742b01e3",
            "34797956fe0b4473ba68c471f4e4866e",
            "57920951d2ea41b1917b038e2df5af59",
            "a6faceee94a9456e8d4dbc306e42bfd6",
            "d36a949aff0f40d5b4ddf7f193adbee4",
            "b38483f8b788453d83c82149eb5a9dda",
            "7fa6aaf82fd344e4a6f55907d1228776",
            "0cc7a6de09c44f31a28af1787579018c",
            "7a14a549804b478bbc6928ace29bcbe8",
            "e49dec095ddd4f40b319adb324539915",
            "01f6fe1eb9c74a79991cb2bf0156c2bd",
            "69aab81ccd584e48aca5652aa7b71f47",
            "34565e479b5443b584e1f4bd68bfb323"
          ]
        },
        "id": "tOyOISHsFA7l",
        "outputId": "9f01c8cb-fe42-4188-c4ec-47a21ee20974"
      },
      "execution_count": 5,
      "outputs": [
        {
          "output_type": "display_data",
          "data": {
            "text/plain": [
              "Downloading spiece.model:   0%|          | 0.00/792k [00:00<?, ?B/s]"
            ],
            "application/vnd.jupyter.widget-view+json": {
              "version_major": 2,
              "version_minor": 0,
              "model_id": "b89a375d8ed647939a28f3a27801f9ac"
            }
          },
          "metadata": {}
        },
        {
          "output_type": "display_data",
          "data": {
            "text/plain": [
              "Downloading (…)cial_tokens_map.json:   0%|          | 0.00/2.20k [00:00<?, ?B/s]"
            ],
            "application/vnd.jupyter.widget-view+json": {
              "version_major": 2,
              "version_minor": 0,
              "model_id": "3b316286f464409aa52b1cf7509a8b7e"
            }
          },
          "metadata": {}
        },
        {
          "output_type": "display_data",
          "data": {
            "text/plain": [
              "Downloading (…)okenizer_config.json:   0%|          | 0.00/2.54k [00:00<?, ?B/s]"
            ],
            "application/vnd.jupyter.widget-view+json": {
              "version_major": 2,
              "version_minor": 0,
              "model_id": "eedc24de2a364414a40f1af7c72c71ed"
            }
          },
          "metadata": {}
        },
        {
          "output_type": "display_data",
          "data": {
            "text/plain": [
              "Loading checkpoint shards:   0%|          | 0/2 [00:00<?, ?it/s]"
            ],
            "application/vnd.jupyter.widget-view+json": {
              "version_major": 2,
              "version_minor": 0,
              "model_id": "57920951d2ea41b1917b038e2df5af59"
            }
          },
          "metadata": {}
        }
      ]
    },
    {
      "cell_type": "markdown",
      "source": [
        "## single text experiment"
      ],
      "metadata": {
        "id": "6SRFL4Ssz50T"
      }
    },
    {
      "cell_type": "code",
      "source": [
        "sentencea = 'I hate eating beef, because they tastes bad.'\n",
        "sentenceb = 'I love eating beef, ____.'\n",
        "input_text =  \"Read sentence A and sentence B, \\nComplete the '____' part of sentence A , to fit the rest of the sentence and make up a reasonable sentence. Also, make the completed whole sentence as similar to the sentence B as possible. Return only the completed <MASK> part of sentence A. \\n Examples: Sentence A: I hate eating ducks, because they taste bad., sentence B: I love eating ducks,____  Return: because they taste good. \\n Now read the following sentences and return the completed part of sentence A: \\nSentence A: \"+sentencea + ', sentence B: '+sentenceb\n",
        "print(input_text)\n",
        "\n",
        "input_ids = tokenizer(input_text, return_tensors=\"pt\").input_ids.to(\"cuda\")\n",
        "\n",
        "outputs = model.generate(input_ids)\n",
        "outtxt = tokenizer.decode(outputs[0])\n",
        "\n",
        "print(outtxt)\n"
      ],
      "metadata": {
        "colab": {
          "base_uri": "https://localhost:8080/"
        },
        "id": "wWGDulMaCgIy",
        "outputId": "08f67bbc-3cfc-464d-8cdd-e1fb39fa0a57"
      },
      "execution_count": 50,
      "outputs": [
        {
          "output_type": "stream",
          "name": "stdout",
          "text": [
            "Read sentence A and sentence B, \n",
            "Complete the '____' part of sentence A , to fit the rest of the sentence and make up a reasonable sentence. Also, make the completed whole sentence as similar to the sentence B as possible. Return only the completed <MASK> part of sentence A. \n",
            " Examples: Sentence A: I hate eating ducks, because they taste bad., sentence B: I love eating ducks,____  Return: because they taste good. \n",
            " Now read the following sentences and return the completed part of sentence A: \n",
            "Sentence A: I hate eating beef, because they tastes bad., sentence B: I love eating beef, ____.\n",
            "<pad> because they taste good.</s>\n"
          ]
        }
      ]
    },
    {
      "cell_type": "code",
      "source": [
        "sentencea = 'I hate eating beef, because I love cows.'\n",
        "sentenceb = 'I love eating beef, ____.'\n",
        "input_text =  \"Read sentence A and sentence B, \\nComplete the '____' part of sentence A , to fit the rest of the sentence and make up a reasonable sentence. Also, make the completed whole sentence as similar to the sentence B as possible. Return only the completed <MASK> part of sentence A. \\n Examples: Sentence A: I hate eating ducks, because they taste bad., sentence B: I love eating ducks,____  Return: because they taste good. \\n Now read the following sentences and return the completed part of sentence A: \\nSentence A: \"+sentencea + ', sentence B: '+sentenceb\n",
        "print(input_text)\n",
        "\n",
        "input_ids = tokenizer(input_text, return_tensors=\"pt\").input_ids.to(\"cuda\")\n",
        "\n",
        "outputs = model.generate(input_ids)\n",
        "outtxt = tokenizer.decode(outputs[0])\n",
        "\n",
        "print(outtxt)"
      ],
      "metadata": {
        "colab": {
          "base_uri": "https://localhost:8080/"
        },
        "id": "28KXAjYnzUUV",
        "outputId": "b778e8c7-dec8-435f-8a1f-e232f051eed0"
      },
      "execution_count": 52,
      "outputs": [
        {
          "output_type": "stream",
          "name": "stdout",
          "text": [
            "Read sentence A and sentence B, \n",
            "Complete the '____' part of sentence A , to fit the rest of the sentence and make up a reasonable sentence. Also, make the completed whole sentence as similar to the sentence B as possible. Return only the completed <MASK> part of sentence A. \n",
            " Examples: Sentence A: I hate eating ducks, because they taste bad., sentence B: I love eating ducks,____  Return: because they taste good. \n",
            " Now read the following sentences and return the completed part of sentence A: \n",
            "Sentence A: I hate eating beef, because I love cows., sentence B: I love eating beef, ____.\n",
            "<pad> because I hate cows.</s>\n"
          ]
        }
      ]
    },
    {
      "cell_type": "code",
      "source": [
        "sentencea = 'I hate eating beef, because cows are cute.'\n",
        "sentenceb = 'I love eating beef, ____.'\n",
        "input_text =  \"Read sentence A and sentence B, \\nComplete the '____' part of sentence A , to fit the rest of the sentence and make up a reasonable sentence. Also, make the completed whole sentence as similar to the sentence B as possible. Return only the completed <MASK> part of sentence A. \\n Examples: Sentence A: I hate eating ducks, because they taste bad., sentence B: I love eating ducks,____  Return: because they taste good. \\n Now read the following sentences and return the completed part of sentence A: \\nSentence A: \"+sentencea + ', sentence B: '+sentenceb\n",
        "print(input_text)\n",
        "\n",
        "input_ids = tokenizer(input_text, return_tensors=\"pt\").input_ids.to(\"cuda\")\n",
        "\n",
        "outputs = model.generate(input_ids)\n",
        "outtxt = tokenizer.decode(outputs[0])\n",
        "\n",
        "print(outtxt)"
      ],
      "metadata": {
        "colab": {
          "base_uri": "https://localhost:8080/"
        },
        "id": "olji9DRL82GE",
        "outputId": "48141f11-d89f-413f-d9b5-702a8cce43e3"
      },
      "execution_count": 53,
      "outputs": [
        {
          "output_type": "stream",
          "name": "stdout",
          "text": [
            "Read sentence A and sentence B, \n",
            "Complete the '____' part of sentence A , to fit the rest of the sentence and make up a reasonable sentence. Also, make the completed whole sentence as similar to the sentence B as possible. Return only the completed <MASK> part of sentence A. \n",
            " Examples: Sentence A: I hate eating ducks, because they taste bad., sentence B: I love eating ducks,____  Return: because they taste good. \n",
            " Now read the following sentences and return the completed part of sentence A: \n",
            "Sentence A: I hate eating beef, because cows are cute., sentence B: I love eating beef, ____.\n",
            "<pad> because cows are ugly.</s>\n"
          ]
        }
      ]
    },
    {
      "cell_type": "code",
      "source": [
        "sentencea = 'I hate eating beef, no matter what other people say.'\n",
        "sentenceb = 'I love eating beef, ____.'\n",
        "input_text =  \"Read sentence A and sentence B, \\nComplete the '____' part of sentence A , to fit the rest of the sentence and make up a reasonable sentence. Also, make the completed whole sentence as similar to the sentence B as possible. Return only the completed <MASK> part of sentence A. \\n Examples: Sentence A: I hate eating ducks, because they taste bad., sentence B: I love eating ducks,____  Return: because they taste good. \\n Now read the following sentences and return the completed part of sentence A: \\nSentence A: \"+sentencea + ', sentence B: '+sentenceb\n",
        "print(input_text)\n",
        "\n",
        "input_ids = tokenizer(input_text, return_tensors=\"pt\").input_ids.to(\"cuda\")\n",
        "\n",
        "outputs = model.generate(input_ids)\n",
        "outtxt = tokenizer.decode(outputs[0])\n",
        "\n",
        "print(outtxt)"
      ],
      "metadata": {
        "colab": {
          "base_uri": "https://localhost:8080/"
        },
        "id": "VKMfvpLYz3iB",
        "outputId": "a06e7404-b6f6-4f4e-80ad-2ae600062fd5"
      },
      "execution_count": 54,
      "outputs": [
        {
          "output_type": "stream",
          "name": "stdout",
          "text": [
            "Read sentence A and sentence B, \n",
            "Complete the '____' part of sentence A , to fit the rest of the sentence and make up a reasonable sentence. Also, make the completed whole sentence as similar to the sentence B as possible. Return only the completed <MASK> part of sentence A. \n",
            " Examples: Sentence A: I hate eating ducks, because they taste bad., sentence B: I love eating ducks,____  Return: because they taste good. \n",
            " Now read the following sentences and return the completed part of sentence A: \n",
            "Sentence A: I hate eating beef, no matter what other people say., sentence B: I love eating beef, ____.\n",
            "<pad> no matter what other people say.</s>\n"
          ]
        }
      ]
    },
    {
      "cell_type": "code",
      "source": [
        "sentencea = 'I hate eating beef, no matter how tasty it is.'\n",
        "sentenceb = 'I love eating beef, ____.'\n",
        "input_text =  \"Read sentence A and sentence B, \\nComplete the '____' part of sentence A , to fit the rest of the sentence and make up a reasonable sentence. Also, make the completed whole sentence as similar to the sentence B as possible. Return only the completed <MASK> part of sentence A. \\n Examples: Sentence A: I hate eating ducks, because they taste bad., sentence B: I love eating ducks,____  Return: because they taste good. \\n Now read the following sentences and return the completed part of sentence A: \\nSentence A: \"+sentencea + ', sentence B: '+sentenceb\n",
        "print(input_text)\n",
        "\n",
        "input_ids = tokenizer(input_text, return_tensors=\"pt\").input_ids.to(\"cuda\")\n",
        "\n",
        "outputs = model.generate(input_ids)\n",
        "outtxt = tokenizer.decode(outputs[0])\n",
        "\n",
        "print(outtxt)"
      ],
      "metadata": {
        "colab": {
          "base_uri": "https://localhost:8080/"
        },
        "id": "bqBR5Zufz8Zs",
        "outputId": "e59d97f9-86fa-44b9-fab3-ab4821de2747"
      },
      "execution_count": 55,
      "outputs": [
        {
          "output_type": "stream",
          "name": "stdout",
          "text": [
            "Read sentence A and sentence B, \n",
            "Complete the '____' part of sentence A , to fit the rest of the sentence and make up a reasonable sentence. Also, make the completed whole sentence as similar to the sentence B as possible. Return only the completed <MASK> part of sentence A. \n",
            " Examples: Sentence A: I hate eating ducks, because they taste bad., sentence B: I love eating ducks,____  Return: because they taste good. \n",
            " Now read the following sentences and return the completed part of sentence A: \n",
            "Sentence A: I hate eating beef, no matter how tasty it is., sentence B: I love eating beef, ____.\n",
            "<pad> no matter how tasty it is.</s>\n"
          ]
        }
      ]
    },
    {
      "cell_type": "code",
      "source": [
        "sentencea = 'I hate eating beef, although it is tasty.'\n",
        "sentenceb = 'I love eating beef, ____.'\n",
        "input_text =  \"Read sentence A and sentence B, \\nComplete the '____' part of sentence A , to fit the rest of the sentence and make up a reasonable sentence. Also, make the completed whole sentence as similar to the sentence B as possible. Return only the completed <MASK> part of sentence A. \\n Examples: Sentence A: I hate eating ducks, because they taste bad., sentence B: I love eating ducks,____  Return: because they taste good. \\n Now read the following sentences and return the completed part of sentence A: \\nSentence A: \"+sentencea + ', sentence B: '+sentenceb\n",
        "print(input_text)\n",
        "\n",
        "input_ids = tokenizer(input_text, return_tensors=\"pt\").input_ids.to(\"cuda\")\n",
        "\n",
        "outputs = model.generate(input_ids)\n",
        "outtxt = tokenizer.decode(outputs[0])\n",
        "\n",
        "print(outtxt)"
      ],
      "metadata": {
        "colab": {
          "base_uri": "https://localhost:8080/"
        },
        "id": "Hj67nFh2z-8Q",
        "outputId": "e80b16f2-5415-40af-ef5f-64188b43a65a"
      },
      "execution_count": 56,
      "outputs": [
        {
          "output_type": "stream",
          "name": "stdout",
          "text": [
            "Read sentence A and sentence B, \n",
            "Complete the '____' part of sentence A , to fit the rest of the sentence and make up a reasonable sentence. Also, make the completed whole sentence as similar to the sentence B as possible. Return only the completed <MASK> part of sentence A. \n",
            " Examples: Sentence A: I hate eating ducks, because they taste bad., sentence B: I love eating ducks,____  Return: because they taste good. \n",
            " Now read the following sentences and return the completed part of sentence A: \n",
            "Sentence A: I hate eating beef, although it is tasty., sentence B: I love eating beef, ____.\n",
            "<pad> although it is expensive.</s>\n"
          ]
        }
      ]
    },
    {
      "cell_type": "code",
      "source": [
        "sentencea = 'I hate eating beef, even if you force me to eat it.'\n",
        "sentenceb = 'I love eating beef, ____.'\n",
        "input_text =  \"Read sentence A and sentence B, \\nComplete the '____' part of sentence A , to fit the rest of the sentence and make up a reasonable sentence. Also, make the completed whole sentence as similar to the sentence B as possible. Return only the completed <MASK> part of sentence A. \\n Examples: Sentence A: I hate eating ducks, because they taste bad., sentence B: I love eating ducks,____  Return: because they taste good. \\n Now read the following sentences and return the completed part of sentence A: \\nSentence A: \"+sentencea + ', sentence B: '+sentenceb\n",
        "print(input_text)\n",
        "\n",
        "input_ids = tokenizer(input_text, return_tensors=\"pt\").input_ids.to(\"cuda\")\n",
        "\n",
        "outputs = model.generate(input_ids)\n",
        "outtxt = tokenizer.decode(outputs[0])\n",
        "\n",
        "print(outtxt)"
      ],
      "metadata": {
        "colab": {
          "base_uri": "https://localhost:8080/"
        },
        "id": "lt8raPMLz_aq",
        "outputId": "cc40e4f4-63b8-45b6-9da5-e78ab5456409"
      },
      "execution_count": 57,
      "outputs": [
        {
          "output_type": "stream",
          "name": "stdout",
          "text": [
            "Read sentence A and sentence B, \n",
            "Complete the '____' part of sentence A , to fit the rest of the sentence and make up a reasonable sentence. Also, make the completed whole sentence as similar to the sentence B as possible. Return only the completed <MASK> part of sentence A. \n",
            " Examples: Sentence A: I hate eating ducks, because they taste bad., sentence B: I love eating ducks,____  Return: because they taste good. \n",
            " Now read the following sentences and return the completed part of sentence A: \n",
            "Sentence A: I hate eating beef, even if you force me to eat it., sentence B: I love eating beef, ____.\n",
            "<pad> even if you force me to eat it.</s>\n"
          ]
        }
      ]
    },
    {
      "cell_type": "code",
      "source": [
        "sentencea = 'I hate eating beef, I refuse to eat it.'\n",
        "sentenceb = 'I love eating beef, ____.'\n",
        "input_text =  \"Read sentence A and sentence B, \\nComplete the '____' part of sentence A , to fit the rest of the sentence and make up a reasonable sentence. Also, make the completed whole sentence as similar to the sentence B as possible. Return only the completed <MASK> part of sentence A. \\n Examples: Sentence A: I hate eating ducks, because they taste bad., sentence B: I love eating ducks,____  Return: because they taste good. \\n Now read the following sentences and return the completed part of sentence A: \\nSentence A: \"+sentencea + ', sentence B: '+sentenceb\n",
        "print(input_text)\n",
        "\n",
        "input_ids = tokenizer(input_text, return_tensors=\"pt\").input_ids.to(\"cuda\")\n",
        "\n",
        "outputs = model.generate(input_ids)\n",
        "outtxt = tokenizer.decode(outputs[0])\n",
        "\n",
        "print(outtxt)"
      ],
      "metadata": {
        "colab": {
          "base_uri": "https://localhost:8080/"
        },
        "id": "oPntC4xw0O6E",
        "outputId": "389635a2-f761-46cd-c4ff-41b6c4623c64"
      },
      "execution_count": 58,
      "outputs": [
        {
          "output_type": "stream",
          "name": "stdout",
          "text": [
            "Read sentence A and sentence B, \n",
            "Complete the '____' part of sentence A , to fit the rest of the sentence and make up a reasonable sentence. Also, make the completed whole sentence as similar to the sentence B as possible. Return only the completed <MASK> part of sentence A. \n",
            " Examples: Sentence A: I hate eating ducks, because they taste bad., sentence B: I love eating ducks,____  Return: because they taste good. \n",
            " Now read the following sentences and return the completed part of sentence A: \n",
            "Sentence A: I hate eating beef, I refuse to eat it., sentence B: I love eating beef, ____.\n",
            "<pad> I eat it every day.</s>\n"
          ]
        }
      ]
    },
    {
      "cell_type": "code",
      "source": [
        "sentencea = 'I hate eating beef, because cows are my good friends.'\n",
        "sentenceb = 'I love eating beef, ____.'\n",
        "input_text =  \"Read sentence A and sentence B, \\nComplete the '____' part of sentence A , to fit the rest of the sentence and make up a reasonable sentence. Also, make the completed whole sentence as similar to the sentence B as possible. Return only the completed <MASK> part of sentence A. \\n Examples: Sentence A: I hate eating ducks, because they taste bad., sentence B: I love eating ducks,____  Return: because they taste good. \\n Now read the following sentences and return the completed part of sentence A: \\nSentence A: \"+sentencea + ', sentence B: '+sentenceb\n",
        "print(input_text)\n",
        "\n",
        "input_ids = tokenizer(input_text, return_tensors=\"pt\").input_ids.to(\"cuda\")\n",
        "\n",
        "outputs = model.generate(input_ids)\n",
        "outtxt = tokenizer.decode(outputs[0])\n",
        "\n",
        "print(outtxt)"
      ],
      "metadata": {
        "colab": {
          "base_uri": "https://localhost:8080/"
        },
        "id": "YNbQLX3r0VJE",
        "outputId": "19c6eace-f071-41aa-df13-2d8ca1d3e887"
      },
      "execution_count": 59,
      "outputs": [
        {
          "output_type": "stream",
          "name": "stdout",
          "text": [
            "Read sentence A and sentence B, \n",
            "Complete the '____' part of sentence A , to fit the rest of the sentence and make up a reasonable sentence. Also, make the completed whole sentence as similar to the sentence B as possible. Return only the completed <MASK> part of sentence A. \n",
            " Examples: Sentence A: I hate eating ducks, because they taste bad., sentence B: I love eating ducks,____  Return: because they taste good. \n",
            " Now read the following sentences and return the completed part of sentence A: \n",
            "Sentence A: I hate eating beef, because cows are my good friends., sentence B: I love eating beef, ____.\n",
            "<pad> because cows are my good friends.</s>\n"
          ]
        }
      ]
    },
    {
      "cell_type": "code",
      "source": [
        "sentencea = 'I hate eating beef, because I have a cow as pet.'\n",
        "sentenceb = 'I love eating beef, ____.'\n",
        "input_text =  \"Read sentence A and sentence B, \\nComplete the '____' part of sentence A , to fit the rest of the sentence and make up a reasonable sentence. Also, make the completed whole sentence as similar to the sentence B as possible. Return only the completed <MASK> part of sentence A. \\n Examples: Sentence A: I hate eating ducks, because they taste bad., sentence B: I love eating ducks,____  Return: because they taste good. \\n Now read the following sentences and return the completed part of sentence A: \\nSentence A: \"+sentencea + ', sentence B: '+sentenceb\n",
        "print(input_text)\n",
        "\n",
        "input_ids = tokenizer(input_text, return_tensors=\"pt\").input_ids.to(\"cuda\")\n",
        "\n",
        "outputs = model.generate(input_ids)\n",
        "outtxt = tokenizer.decode(outputs[0])\n",
        "\n",
        "print(outtxt)"
      ],
      "metadata": {
        "colab": {
          "base_uri": "https://localhost:8080/"
        },
        "id": "t95PkXIa0Xu4",
        "outputId": "372b310d-d90a-40f3-df9f-35492b98faeb"
      },
      "execution_count": 60,
      "outputs": [
        {
          "output_type": "stream",
          "name": "stdout",
          "text": [
            "Read sentence A and sentence B, \n",
            "Complete the '____' part of sentence A , to fit the rest of the sentence and make up a reasonable sentence. Also, make the completed whole sentence as similar to the sentence B as possible. Return only the completed <MASK> part of sentence A. \n",
            " Examples: Sentence A: I hate eating ducks, because they taste bad., sentence B: I love eating ducks,____  Return: because they taste good. \n",
            " Now read the following sentences and return the completed part of sentence A: \n",
            "Sentence A: I hate eating beef, because I have a cow as pet., sentence B: I love eating beef, ____.\n",
            "<pad> because I have a cow as pet.</s>\n"
          ]
        }
      ]
    },
    {
      "cell_type": "code",
      "source": [
        "sentencea = noblank_df['sentence'][150]\n",
        "\n",
        "input_text =  \"For the original sentence, modify the words before '(' and after ')' to the least extent. \\nExample: original sentence: 'I (hate) eating ducks. They are my favorite food.' modified sentence: 'I (hate) eating ducks. They are not my favorite food.' \\nReturn a modified sentence for this original sentence: \"+sentencea\n",
        "\n",
        "print(input_text)\n",
        "\n",
        "input_ids = tokenizer(input_text, return_tensors=\"pt\").input_ids.to(\"cuda\")\n",
        "\n",
        "outputs = model.generate(input_ids)\n",
        "outtxt = tokenizer.decode(outputs[0])\n",
        "\n",
        "print(outtxt)"
      ],
      "metadata": {
        "colab": {
          "base_uri": "https://localhost:8080/"
        },
        "id": "abQGf3B1Hr9K",
        "outputId": "8db9a7af-55ea-4f9f-c131-330d828a4399"
      },
      "execution_count": null,
      "outputs": [
        {
          "output_type": "stream",
          "name": "stdout",
          "text": [
            "For the original sentence, modify the words before '(' and after ')' to the least extent. \n",
            "Example: original sentence: 'I <hate> eating ducks. They are my favorite food.' modified sentence: 'I (hate) eating ducks. They are not my favorite food.' \n",
            "Return a modified sentence for this original sentence: So many people enjoy listening to podcasts,  for the sake of (unlearning) new things..\n",
            "<pad> So many people enjoy listening to podcasts, for the sake of learning new things.</s>\n"
          ]
        }
      ]
    },
    {
      "cell_type": "code",
      "source": [
        "sentencea = noblank_df['sentence'][41]\n",
        "\n",
        "input_text =  \"For the original sentence, modify the words outside of the brackets to the least extent, to make the resulting sentence reasonable. \\nExample: original sentence: 'I (hate) eating ducks. They are my favorite food.' modified sentence: 'I (hate) eating ducks. They are not my favorite food.' \\nReturn a modified sentence for this original sentence: \"+sentencea+'. You must print out the full sentence until the end</s>.'\n",
        "\n",
        "print(input_text)\n",
        "\n",
        "input_ids = tokenizer(input_text, return_tensors=\"pt\").input_ids.to(\"cuda\")\n",
        "\n",
        "outputs = model.generate(input_ids)\n",
        "outtxt = tokenizer.decode(outputs[0])\n",
        "\n",
        "print(outtxt)"
      ],
      "metadata": {
        "colab": {
          "base_uri": "https://localhost:8080/"
        },
        "id": "hU1y7ndsVCsC",
        "outputId": "647131c0-795d-4993-8ba3-98a244c33f8c"
      },
      "execution_count": null,
      "outputs": [
        {
          "output_type": "stream",
          "name": "stdout",
          "text": [
            "For the original sentence, modify the words outside of the brackets to the least extent, to make the resulting sentence reasonable. \n",
            "Example: original sentence: 'I (hate) eating ducks. They are my favorite food.' modified sentence: 'I (hate) eating ducks. They are not my favorite food.' \n",
            "Return a modified sentence for this original sentence: I found a spider in my room,  and had to call someone to (keep) it... You must print out the full sentence until the end</s>.\n",
            "<pad>I found a spider in my room, and had to call someone to (take) it\n"
          ]
        }
      ]
    },
    {
      "cell_type": "code",
      "source": [
        "sentencea = noblank_df['sentence'][40]\n",
        "\n",
        "input_text =  \"Modify the original sentence to the least extent to make the resulting sentence reasonable, but keep the parts inside the brackets unchanged. \\nExample: original sentence: 'I (hate) eating ducks. They are my favorite food.' modified sentence: 'I (hate) eating ducks. They are not my favorite food.' \\nModify this sentence: \"+sentencea\n",
        "\n",
        "print(input_text)\n",
        "\n",
        "input_ids = tokenizer(input_text, return_tensors=\"pt\").input_ids.to(\"cuda\")\n",
        "\n",
        "outputs = model.generate(input_ids)\n",
        "outtxt = tokenizer.decode(outputs[0])\n",
        "\n",
        "print(outtxt)"
      ],
      "metadata": {
        "colab": {
          "base_uri": "https://localhost:8080/"
        },
        "id": "gfRuMBWJXel7",
        "outputId": "d586f743-e78e-445e-865c-28c00fe4807a"
      },
      "execution_count": null,
      "outputs": [
        {
          "output_type": "stream",
          "name": "stdout",
          "text": [
            "Modify the original sentence to the least extent to make the resulting sentence reasonable, but keep the parts inside the brackets unchanged. \n",
            "Example: original sentence: 'I (hate) eating ducks. They are my favorite food.' modified sentence: 'I (hate) eating ducks. They are not my favorite food.' \n",
            "Modify this sentence: The internet was (up),  so I couldn't work from home..\n",
            "<pad> The internet was (down), so I couldn't work from home..</s>\n"
          ]
        }
      ]
    },
    {
      "cell_type": "code",
      "source": [
        "sentencea = noblank_df['sentence'][5]\n",
        "\n",
        "input_text =  \"Keeping the word in the brackets unchanged, modify the original sentence to the least extent to make the resulting sentence reasonable, but keep the parts inside the brackets unchanged. \\nExample: original sentence: 'I (hate) eating ducks. They are my favorite food.' Return: word in brackets: hate. modified sentence: 'I (hate) eating ducks. They are not my favorite food.' \\nGiven this original sentence \"+sentencea+\", \\nReturn the unchanged word in the brackets, and return the Modified sentence.\"\n",
        "\n",
        "print(input_text)\n",
        "\n",
        "input_ids = tokenizer(input_text, return_tensors=\"pt\").input_ids.to(\"cuda\")\n",
        "\n",
        "outputs = model.generate(input_ids)\n",
        "outtxt = tokenizer.decode(outputs[0])\n",
        "\n",
        "print(outtxt)"
      ],
      "metadata": {
        "colab": {
          "base_uri": "https://localhost:8080/"
        },
        "id": "l6T62guGZ76w",
        "outputId": "b12c3828-a34c-4483-8ddb-63c3b00c99fd"
      },
      "execution_count": null,
      "outputs": [
        {
          "output_type": "stream",
          "name": "stdout",
          "text": [
            "Keeping the word in the brackets unchanged, modify the original sentence to the least extent to make the resulting sentence reasonable, but keep the parts inside the brackets unchanged. \n",
            "Example: original sentence: 'I (hate) eating ducks. They are my favorite food.' Return: word in brackets: hate. modified sentence: 'I (hate) eating ducks. They are not my favorite food.' \n",
            "Given this original sentence I (dislike) cooking with fresh ingredients from my garden,  it makes the food taste better.., \n",
            "Return the unchanged word in the brackets, and return the Modified sentence.\n",
            "<pad>I (dislike) cooking with fresh ingredients from my garden, it makes the food taste\n"
          ]
        }
      ]
    },
    {
      "cell_type": "code",
      "source": [
        "sentencea = noblank_df['sentence'][40]\n",
        "\n",
        "input_text =  \"Keeping the word in the brackets unchanged, modify the original sentence to the least extent to make the resulting sentence reasonable, but keep the parts inside the brackets unchanged. \\nExample1: original sentence: 'I (hate) eating ducks. They are my favorite food.' Modified sentence: 'I (hate) eating ducks. They are not my favorite food.' \\nExample2: original sentence: 'I (dislike) cooking with fresh ingredients from my garden,  it makes the food taste better.' Modified sentence: 'I (dislike) cooking with fresh ingredients from my garden,  it makes the food taste worse.' \\nGiven this original sentence \"+sentencea+\", \\nReturn the unchanged word in the brackets, and return the Modified sentence.\"\n",
        "\n",
        "print(input_text)\n",
        "\n",
        "input_ids = tokenizer(input_text, return_tensors=\"pt\").input_ids.to(\"cuda\")\n",
        "\n",
        "outputs = model.generate(input_ids)\n",
        "outtxt = tokenizer.decode(outputs[0])\n",
        "\n",
        "print(outtxt)"
      ],
      "metadata": {
        "colab": {
          "base_uri": "https://localhost:8080/"
        },
        "id": "0qR3H03Na0H0",
        "outputId": "cfb54010-3ae3-450d-d33e-4a511db966da"
      },
      "execution_count": null,
      "outputs": [
        {
          "output_type": "stream",
          "name": "stdout",
          "text": [
            "Keeping the word in the brackets unchanged, modify the original sentence to the least extent to make the resulting sentence reasonable, but keep the parts inside the brackets unchanged. \n",
            "Example1: original sentence: 'I (hate) eating ducks. They are my favorite food.' Modified sentence: 'I (hate) eating ducks. They are not my favorite food.' \n",
            "Example2: original sentence: 'I (dislike) cooking with fresh ingredients from my garden,  it makes the food taste better.' Modified sentence: 'I (dislike) cooking with fresh ingredients from my garden,  it makes the food taste worse.' \n",
            "Given this original sentence The internet was (up),  so I couldn't work from home.., \n",
            "Return the unchanged word in the brackets, and return the Modified sentence.\n",
            "<pad> The internet was (down), so I couldn't work from home..</s>\n"
          ]
        }
      ]
    },
    {
      "cell_type": "markdown",
      "source": [
        "## generate the whole results of dataset"
      ],
      "metadata": {
        "id": "qD0K04si0EBf"
      }
    },
    {
      "cell_type": "code",
      "source": [
        "from tqdm import tqdm\n",
        "result = open('T5predicted.txt', 'w')\n",
        "\n",
        "for i in tqdm(range(0, len(changed_df['sentence']))):\n",
        "  sentencea = changed_df['sentence'][i]\n",
        "  sentenceb = origin_df['sentence'][i]\n",
        "  sentencenew = ''\n",
        "  input_text =  \"Read the two sentences: \\nSentence A: \"+sentencea + ', sentence B: '+sentenceb+ \"  \\nComplete the '_____' part of sentence A, and keep the rest of the sentence to make it a reasonable sentence. Also, make the completed sentence as similar to the sentence B as possible. Return the completed sentence A.\"\n",
        "\n",
        "  # print(input_text)\n",
        "\n",
        "  input_ids = tokenizer(input_text, return_tensors=\"pt\").input_ids.to(\"cuda\")\n",
        "\n",
        "  outputs = model.generate(input_ids)\n",
        "  outtxt = tokenizer.decode(outputs[0])\n",
        "\n",
        "  sentencealst = sentencea.split(',')\n",
        "  for semisentence in sentencealst:\n",
        "    if '__' in semisentence:\n",
        "      sentencenew = sentencea.replace(semisentence, outtxt)\n",
        "  \n",
        "  # print(sentencea)\n",
        "  # print(outtxt)\n",
        "  # print(sentencenew)\n",
        "  # predicted.append(sentencenew)\n",
        "\n",
        "  result.write(sentencenew)\n",
        "  result.write('\\n')\n",
        "\n",
        "result.close()"
      ],
      "metadata": {
        "id": "ISw53psZxEX2"
      },
      "execution_count": null,
      "outputs": []
    }
  ],
  "metadata": {
    "kernelspec": {
      "display_name": "Python 3",
      "language": "python",
      "name": "python3"
    },
    "language_info": {
      "codemirror_mode": {
        "name": "ipython",
        "version": 3
      },
      "file_extension": ".py",
      "mimetype": "text/x-python",
      "name": "python",
      "nbconvert_exporter": "python",
      "pygments_lexer": "ipython3",
      "version": "3.7.6"
    },
    "colab": {
      "provenance": [],
      "gpuType": "A100",
      "collapsed_sections": [
        "6SRFL4Ssz50T"
      ]
    },
    "accelerator": "GPU",
    "gpuClass": "standard",
    "widgets": {
      "application/vnd.jupyter.widget-state+json": {
        "b89a375d8ed647939a28f3a27801f9ac": {
          "model_module": "@jupyter-widgets/controls",
          "model_name": "HBoxModel",
          "model_module_version": "1.5.0",
          "state": {
            "_dom_classes": [],
            "_model_module": "@jupyter-widgets/controls",
            "_model_module_version": "1.5.0",
            "_model_name": "HBoxModel",
            "_view_count": null,
            "_view_module": "@jupyter-widgets/controls",
            "_view_module_version": "1.5.0",
            "_view_name": "HBoxView",
            "box_style": "",
            "children": [
              "IPY_MODEL_819e96f768dd48a3af9069a2d61e82b1",
              "IPY_MODEL_bf5911cae28243b1b79940e0194c4120",
              "IPY_MODEL_eb58249a78ce45a4badc4d2a2af53951"
            ],
            "layout": "IPY_MODEL_83d67e518c404fb5a0b9ae980960b328"
          }
        },
        "819e96f768dd48a3af9069a2d61e82b1": {
          "model_module": "@jupyter-widgets/controls",
          "model_name": "HTMLModel",
          "model_module_version": "1.5.0",
          "state": {
            "_dom_classes": [],
            "_model_module": "@jupyter-widgets/controls",
            "_model_module_version": "1.5.0",
            "_model_name": "HTMLModel",
            "_view_count": null,
            "_view_module": "@jupyter-widgets/controls",
            "_view_module_version": "1.5.0",
            "_view_name": "HTMLView",
            "description": "",
            "description_tooltip": null,
            "layout": "IPY_MODEL_a1a0cf93d8964e2f932d071db473dd62",
            "placeholder": "​",
            "style": "IPY_MODEL_42b39f7dcf2941f9a47e80b73aef7007",
            "value": "Downloading spiece.model: 100%"
          }
        },
        "bf5911cae28243b1b79940e0194c4120": {
          "model_module": "@jupyter-widgets/controls",
          "model_name": "FloatProgressModel",
          "model_module_version": "1.5.0",
          "state": {
            "_dom_classes": [],
            "_model_module": "@jupyter-widgets/controls",
            "_model_module_version": "1.5.0",
            "_model_name": "FloatProgressModel",
            "_view_count": null,
            "_view_module": "@jupyter-widgets/controls",
            "_view_module_version": "1.5.0",
            "_view_name": "ProgressView",
            "bar_style": "success",
            "description": "",
            "description_tooltip": null,
            "layout": "IPY_MODEL_d98e105ef869489eb48fdeb2924d901f",
            "max": 791656,
            "min": 0,
            "orientation": "horizontal",
            "style": "IPY_MODEL_6b947845118046d3bfa5a0c156177aee",
            "value": 791656
          }
        },
        "eb58249a78ce45a4badc4d2a2af53951": {
          "model_module": "@jupyter-widgets/controls",
          "model_name": "HTMLModel",
          "model_module_version": "1.5.0",
          "state": {
            "_dom_classes": [],
            "_model_module": "@jupyter-widgets/controls",
            "_model_module_version": "1.5.0",
            "_model_name": "HTMLModel",
            "_view_count": null,
            "_view_module": "@jupyter-widgets/controls",
            "_view_module_version": "1.5.0",
            "_view_name": "HTMLView",
            "description": "",
            "description_tooltip": null,
            "layout": "IPY_MODEL_1698b120df7642219eab33ad74e61f20",
            "placeholder": "​",
            "style": "IPY_MODEL_748c49290d204346a4aefda3c6b1589a",
            "value": " 792k/792k [00:00&lt;00:00, 10.3MB/s]"
          }
        },
        "83d67e518c404fb5a0b9ae980960b328": {
          "model_module": "@jupyter-widgets/base",
          "model_name": "LayoutModel",
          "model_module_version": "1.2.0",
          "state": {
            "_model_module": "@jupyter-widgets/base",
            "_model_module_version": "1.2.0",
            "_model_name": "LayoutModel",
            "_view_count": null,
            "_view_module": "@jupyter-widgets/base",
            "_view_module_version": "1.2.0",
            "_view_name": "LayoutView",
            "align_content": null,
            "align_items": null,
            "align_self": null,
            "border": null,
            "bottom": null,
            "display": null,
            "flex": null,
            "flex_flow": null,
            "grid_area": null,
            "grid_auto_columns": null,
            "grid_auto_flow": null,
            "grid_auto_rows": null,
            "grid_column": null,
            "grid_gap": null,
            "grid_row": null,
            "grid_template_areas": null,
            "grid_template_columns": null,
            "grid_template_rows": null,
            "height": null,
            "justify_content": null,
            "justify_items": null,
            "left": null,
            "margin": null,
            "max_height": null,
            "max_width": null,
            "min_height": null,
            "min_width": null,
            "object_fit": null,
            "object_position": null,
            "order": null,
            "overflow": null,
            "overflow_x": null,
            "overflow_y": null,
            "padding": null,
            "right": null,
            "top": null,
            "visibility": null,
            "width": null
          }
        },
        "a1a0cf93d8964e2f932d071db473dd62": {
          "model_module": "@jupyter-widgets/base",
          "model_name": "LayoutModel",
          "model_module_version": "1.2.0",
          "state": {
            "_model_module": "@jupyter-widgets/base",
            "_model_module_version": "1.2.0",
            "_model_name": "LayoutModel",
            "_view_count": null,
            "_view_module": "@jupyter-widgets/base",
            "_view_module_version": "1.2.0",
            "_view_name": "LayoutView",
            "align_content": null,
            "align_items": null,
            "align_self": null,
            "border": null,
            "bottom": null,
            "display": null,
            "flex": null,
            "flex_flow": null,
            "grid_area": null,
            "grid_auto_columns": null,
            "grid_auto_flow": null,
            "grid_auto_rows": null,
            "grid_column": null,
            "grid_gap": null,
            "grid_row": null,
            "grid_template_areas": null,
            "grid_template_columns": null,
            "grid_template_rows": null,
            "height": null,
            "justify_content": null,
            "justify_items": null,
            "left": null,
            "margin": null,
            "max_height": null,
            "max_width": null,
            "min_height": null,
            "min_width": null,
            "object_fit": null,
            "object_position": null,
            "order": null,
            "overflow": null,
            "overflow_x": null,
            "overflow_y": null,
            "padding": null,
            "right": null,
            "top": null,
            "visibility": null,
            "width": null
          }
        },
        "42b39f7dcf2941f9a47e80b73aef7007": {
          "model_module": "@jupyter-widgets/controls",
          "model_name": "DescriptionStyleModel",
          "model_module_version": "1.5.0",
          "state": {
            "_model_module": "@jupyter-widgets/controls",
            "_model_module_version": "1.5.0",
            "_model_name": "DescriptionStyleModel",
            "_view_count": null,
            "_view_module": "@jupyter-widgets/base",
            "_view_module_version": "1.2.0",
            "_view_name": "StyleView",
            "description_width": ""
          }
        },
        "d98e105ef869489eb48fdeb2924d901f": {
          "model_module": "@jupyter-widgets/base",
          "model_name": "LayoutModel",
          "model_module_version": "1.2.0",
          "state": {
            "_model_module": "@jupyter-widgets/base",
            "_model_module_version": "1.2.0",
            "_model_name": "LayoutModel",
            "_view_count": null,
            "_view_module": "@jupyter-widgets/base",
            "_view_module_version": "1.2.0",
            "_view_name": "LayoutView",
            "align_content": null,
            "align_items": null,
            "align_self": null,
            "border": null,
            "bottom": null,
            "display": null,
            "flex": null,
            "flex_flow": null,
            "grid_area": null,
            "grid_auto_columns": null,
            "grid_auto_flow": null,
            "grid_auto_rows": null,
            "grid_column": null,
            "grid_gap": null,
            "grid_row": null,
            "grid_template_areas": null,
            "grid_template_columns": null,
            "grid_template_rows": null,
            "height": null,
            "justify_content": null,
            "justify_items": null,
            "left": null,
            "margin": null,
            "max_height": null,
            "max_width": null,
            "min_height": null,
            "min_width": null,
            "object_fit": null,
            "object_position": null,
            "order": null,
            "overflow": null,
            "overflow_x": null,
            "overflow_y": null,
            "padding": null,
            "right": null,
            "top": null,
            "visibility": null,
            "width": null
          }
        },
        "6b947845118046d3bfa5a0c156177aee": {
          "model_module": "@jupyter-widgets/controls",
          "model_name": "ProgressStyleModel",
          "model_module_version": "1.5.0",
          "state": {
            "_model_module": "@jupyter-widgets/controls",
            "_model_module_version": "1.5.0",
            "_model_name": "ProgressStyleModel",
            "_view_count": null,
            "_view_module": "@jupyter-widgets/base",
            "_view_module_version": "1.2.0",
            "_view_name": "StyleView",
            "bar_color": null,
            "description_width": ""
          }
        },
        "1698b120df7642219eab33ad74e61f20": {
          "model_module": "@jupyter-widgets/base",
          "model_name": "LayoutModel",
          "model_module_version": "1.2.0",
          "state": {
            "_model_module": "@jupyter-widgets/base",
            "_model_module_version": "1.2.0",
            "_model_name": "LayoutModel",
            "_view_count": null,
            "_view_module": "@jupyter-widgets/base",
            "_view_module_version": "1.2.0",
            "_view_name": "LayoutView",
            "align_content": null,
            "align_items": null,
            "align_self": null,
            "border": null,
            "bottom": null,
            "display": null,
            "flex": null,
            "flex_flow": null,
            "grid_area": null,
            "grid_auto_columns": null,
            "grid_auto_flow": null,
            "grid_auto_rows": null,
            "grid_column": null,
            "grid_gap": null,
            "grid_row": null,
            "grid_template_areas": null,
            "grid_template_columns": null,
            "grid_template_rows": null,
            "height": null,
            "justify_content": null,
            "justify_items": null,
            "left": null,
            "margin": null,
            "max_height": null,
            "max_width": null,
            "min_height": null,
            "min_width": null,
            "object_fit": null,
            "object_position": null,
            "order": null,
            "overflow": null,
            "overflow_x": null,
            "overflow_y": null,
            "padding": null,
            "right": null,
            "top": null,
            "visibility": null,
            "width": null
          }
        },
        "748c49290d204346a4aefda3c6b1589a": {
          "model_module": "@jupyter-widgets/controls",
          "model_name": "DescriptionStyleModel",
          "model_module_version": "1.5.0",
          "state": {
            "_model_module": "@jupyter-widgets/controls",
            "_model_module_version": "1.5.0",
            "_model_name": "DescriptionStyleModel",
            "_view_count": null,
            "_view_module": "@jupyter-widgets/base",
            "_view_module_version": "1.2.0",
            "_view_name": "StyleView",
            "description_width": ""
          }
        },
        "3b316286f464409aa52b1cf7509a8b7e": {
          "model_module": "@jupyter-widgets/controls",
          "model_name": "HBoxModel",
          "model_module_version": "1.5.0",
          "state": {
            "_dom_classes": [],
            "_model_module": "@jupyter-widgets/controls",
            "_model_module_version": "1.5.0",
            "_model_name": "HBoxModel",
            "_view_count": null,
            "_view_module": "@jupyter-widgets/controls",
            "_view_module_version": "1.5.0",
            "_view_name": "HBoxView",
            "box_style": "",
            "children": [
              "IPY_MODEL_6b63c70e4e0848ff80460f18577e53d2",
              "IPY_MODEL_1ae0020454ae4f1ab3aa8ad7b1dd43a0",
              "IPY_MODEL_0f68faae96bf45249b29df240fe450a2"
            ],
            "layout": "IPY_MODEL_a839aab098cb4720beccfe1c2f12bac3"
          }
        },
        "6b63c70e4e0848ff80460f18577e53d2": {
          "model_module": "@jupyter-widgets/controls",
          "model_name": "HTMLModel",
          "model_module_version": "1.5.0",
          "state": {
            "_dom_classes": [],
            "_model_module": "@jupyter-widgets/controls",
            "_model_module_version": "1.5.0",
            "_model_name": "HTMLModel",
            "_view_count": null,
            "_view_module": "@jupyter-widgets/controls",
            "_view_module_version": "1.5.0",
            "_view_name": "HTMLView",
            "description": "",
            "description_tooltip": null,
            "layout": "IPY_MODEL_25984f0470cf4b42814f11552ce8fc9f",
            "placeholder": "​",
            "style": "IPY_MODEL_156491e3dd784ce8883841c9ff6675d4",
            "value": "Downloading (…)cial_tokens_map.json: 100%"
          }
        },
        "1ae0020454ae4f1ab3aa8ad7b1dd43a0": {
          "model_module": "@jupyter-widgets/controls",
          "model_name": "FloatProgressModel",
          "model_module_version": "1.5.0",
          "state": {
            "_dom_classes": [],
            "_model_module": "@jupyter-widgets/controls",
            "_model_module_version": "1.5.0",
            "_model_name": "FloatProgressModel",
            "_view_count": null,
            "_view_module": "@jupyter-widgets/controls",
            "_view_module_version": "1.5.0",
            "_view_name": "ProgressView",
            "bar_style": "success",
            "description": "",
            "description_tooltip": null,
            "layout": "IPY_MODEL_14f0bd31ed6d47e2a60876fc2e78cab5",
            "max": 2201,
            "min": 0,
            "orientation": "horizontal",
            "style": "IPY_MODEL_850a86f32e4348c99bcd361818fbb5e0",
            "value": 2201
          }
        },
        "0f68faae96bf45249b29df240fe450a2": {
          "model_module": "@jupyter-widgets/controls",
          "model_name": "HTMLModel",
          "model_module_version": "1.5.0",
          "state": {
            "_dom_classes": [],
            "_model_module": "@jupyter-widgets/controls",
            "_model_module_version": "1.5.0",
            "_model_name": "HTMLModel",
            "_view_count": null,
            "_view_module": "@jupyter-widgets/controls",
            "_view_module_version": "1.5.0",
            "_view_name": "HTMLView",
            "description": "",
            "description_tooltip": null,
            "layout": "IPY_MODEL_45b9b77d021c4a8ea1b3cf0401acd127",
            "placeholder": "​",
            "style": "IPY_MODEL_b6ac74aa46d04969bdd612440e7096a6",
            "value": " 2.20k/2.20k [00:00&lt;00:00, 144kB/s]"
          }
        },
        "a839aab098cb4720beccfe1c2f12bac3": {
          "model_module": "@jupyter-widgets/base",
          "model_name": "LayoutModel",
          "model_module_version": "1.2.0",
          "state": {
            "_model_module": "@jupyter-widgets/base",
            "_model_module_version": "1.2.0",
            "_model_name": "LayoutModel",
            "_view_count": null,
            "_view_module": "@jupyter-widgets/base",
            "_view_module_version": "1.2.0",
            "_view_name": "LayoutView",
            "align_content": null,
            "align_items": null,
            "align_self": null,
            "border": null,
            "bottom": null,
            "display": null,
            "flex": null,
            "flex_flow": null,
            "grid_area": null,
            "grid_auto_columns": null,
            "grid_auto_flow": null,
            "grid_auto_rows": null,
            "grid_column": null,
            "grid_gap": null,
            "grid_row": null,
            "grid_template_areas": null,
            "grid_template_columns": null,
            "grid_template_rows": null,
            "height": null,
            "justify_content": null,
            "justify_items": null,
            "left": null,
            "margin": null,
            "max_height": null,
            "max_width": null,
            "min_height": null,
            "min_width": null,
            "object_fit": null,
            "object_position": null,
            "order": null,
            "overflow": null,
            "overflow_x": null,
            "overflow_y": null,
            "padding": null,
            "right": null,
            "top": null,
            "visibility": null,
            "width": null
          }
        },
        "25984f0470cf4b42814f11552ce8fc9f": {
          "model_module": "@jupyter-widgets/base",
          "model_name": "LayoutModel",
          "model_module_version": "1.2.0",
          "state": {
            "_model_module": "@jupyter-widgets/base",
            "_model_module_version": "1.2.0",
            "_model_name": "LayoutModel",
            "_view_count": null,
            "_view_module": "@jupyter-widgets/base",
            "_view_module_version": "1.2.0",
            "_view_name": "LayoutView",
            "align_content": null,
            "align_items": null,
            "align_self": null,
            "border": null,
            "bottom": null,
            "display": null,
            "flex": null,
            "flex_flow": null,
            "grid_area": null,
            "grid_auto_columns": null,
            "grid_auto_flow": null,
            "grid_auto_rows": null,
            "grid_column": null,
            "grid_gap": null,
            "grid_row": null,
            "grid_template_areas": null,
            "grid_template_columns": null,
            "grid_template_rows": null,
            "height": null,
            "justify_content": null,
            "justify_items": null,
            "left": null,
            "margin": null,
            "max_height": null,
            "max_width": null,
            "min_height": null,
            "min_width": null,
            "object_fit": null,
            "object_position": null,
            "order": null,
            "overflow": null,
            "overflow_x": null,
            "overflow_y": null,
            "padding": null,
            "right": null,
            "top": null,
            "visibility": null,
            "width": null
          }
        },
        "156491e3dd784ce8883841c9ff6675d4": {
          "model_module": "@jupyter-widgets/controls",
          "model_name": "DescriptionStyleModel",
          "model_module_version": "1.5.0",
          "state": {
            "_model_module": "@jupyter-widgets/controls",
            "_model_module_version": "1.5.0",
            "_model_name": "DescriptionStyleModel",
            "_view_count": null,
            "_view_module": "@jupyter-widgets/base",
            "_view_module_version": "1.2.0",
            "_view_name": "StyleView",
            "description_width": ""
          }
        },
        "14f0bd31ed6d47e2a60876fc2e78cab5": {
          "model_module": "@jupyter-widgets/base",
          "model_name": "LayoutModel",
          "model_module_version": "1.2.0",
          "state": {
            "_model_module": "@jupyter-widgets/base",
            "_model_module_version": "1.2.0",
            "_model_name": "LayoutModel",
            "_view_count": null,
            "_view_module": "@jupyter-widgets/base",
            "_view_module_version": "1.2.0",
            "_view_name": "LayoutView",
            "align_content": null,
            "align_items": null,
            "align_self": null,
            "border": null,
            "bottom": null,
            "display": null,
            "flex": null,
            "flex_flow": null,
            "grid_area": null,
            "grid_auto_columns": null,
            "grid_auto_flow": null,
            "grid_auto_rows": null,
            "grid_column": null,
            "grid_gap": null,
            "grid_row": null,
            "grid_template_areas": null,
            "grid_template_columns": null,
            "grid_template_rows": null,
            "height": null,
            "justify_content": null,
            "justify_items": null,
            "left": null,
            "margin": null,
            "max_height": null,
            "max_width": null,
            "min_height": null,
            "min_width": null,
            "object_fit": null,
            "object_position": null,
            "order": null,
            "overflow": null,
            "overflow_x": null,
            "overflow_y": null,
            "padding": null,
            "right": null,
            "top": null,
            "visibility": null,
            "width": null
          }
        },
        "850a86f32e4348c99bcd361818fbb5e0": {
          "model_module": "@jupyter-widgets/controls",
          "model_name": "ProgressStyleModel",
          "model_module_version": "1.5.0",
          "state": {
            "_model_module": "@jupyter-widgets/controls",
            "_model_module_version": "1.5.0",
            "_model_name": "ProgressStyleModel",
            "_view_count": null,
            "_view_module": "@jupyter-widgets/base",
            "_view_module_version": "1.2.0",
            "_view_name": "StyleView",
            "bar_color": null,
            "description_width": ""
          }
        },
        "45b9b77d021c4a8ea1b3cf0401acd127": {
          "model_module": "@jupyter-widgets/base",
          "model_name": "LayoutModel",
          "model_module_version": "1.2.0",
          "state": {
            "_model_module": "@jupyter-widgets/base",
            "_model_module_version": "1.2.0",
            "_model_name": "LayoutModel",
            "_view_count": null,
            "_view_module": "@jupyter-widgets/base",
            "_view_module_version": "1.2.0",
            "_view_name": "LayoutView",
            "align_content": null,
            "align_items": null,
            "align_self": null,
            "border": null,
            "bottom": null,
            "display": null,
            "flex": null,
            "flex_flow": null,
            "grid_area": null,
            "grid_auto_columns": null,
            "grid_auto_flow": null,
            "grid_auto_rows": null,
            "grid_column": null,
            "grid_gap": null,
            "grid_row": null,
            "grid_template_areas": null,
            "grid_template_columns": null,
            "grid_template_rows": null,
            "height": null,
            "justify_content": null,
            "justify_items": null,
            "left": null,
            "margin": null,
            "max_height": null,
            "max_width": null,
            "min_height": null,
            "min_width": null,
            "object_fit": null,
            "object_position": null,
            "order": null,
            "overflow": null,
            "overflow_x": null,
            "overflow_y": null,
            "padding": null,
            "right": null,
            "top": null,
            "visibility": null,
            "width": null
          }
        },
        "b6ac74aa46d04969bdd612440e7096a6": {
          "model_module": "@jupyter-widgets/controls",
          "model_name": "DescriptionStyleModel",
          "model_module_version": "1.5.0",
          "state": {
            "_model_module": "@jupyter-widgets/controls",
            "_model_module_version": "1.5.0",
            "_model_name": "DescriptionStyleModel",
            "_view_count": null,
            "_view_module": "@jupyter-widgets/base",
            "_view_module_version": "1.2.0",
            "_view_name": "StyleView",
            "description_width": ""
          }
        },
        "eedc24de2a364414a40f1af7c72c71ed": {
          "model_module": "@jupyter-widgets/controls",
          "model_name": "HBoxModel",
          "model_module_version": "1.5.0",
          "state": {
            "_dom_classes": [],
            "_model_module": "@jupyter-widgets/controls",
            "_model_module_version": "1.5.0",
            "_model_name": "HBoxModel",
            "_view_count": null,
            "_view_module": "@jupyter-widgets/controls",
            "_view_module_version": "1.5.0",
            "_view_name": "HBoxView",
            "box_style": "",
            "children": [
              "IPY_MODEL_625aa0083ade4aeaad1078ee6c55ad25",
              "IPY_MODEL_b04c487985ee43008e2044b858563cb3",
              "IPY_MODEL_ecb39e9b65dd462aaf7df10218096f10"
            ],
            "layout": "IPY_MODEL_4d998101f61a4907855c84dad5585f41"
          }
        },
        "625aa0083ade4aeaad1078ee6c55ad25": {
          "model_module": "@jupyter-widgets/controls",
          "model_name": "HTMLModel",
          "model_module_version": "1.5.0",
          "state": {
            "_dom_classes": [],
            "_model_module": "@jupyter-widgets/controls",
            "_model_module_version": "1.5.0",
            "_model_name": "HTMLModel",
            "_view_count": null,
            "_view_module": "@jupyter-widgets/controls",
            "_view_module_version": "1.5.0",
            "_view_name": "HTMLView",
            "description": "",
            "description_tooltip": null,
            "layout": "IPY_MODEL_b8e94e7667d04592b1c4d7ad624ced5d",
            "placeholder": "​",
            "style": "IPY_MODEL_4d626ebb972241a88df905f2741b1a5f",
            "value": "Downloading (…)okenizer_config.json: 100%"
          }
        },
        "b04c487985ee43008e2044b858563cb3": {
          "model_module": "@jupyter-widgets/controls",
          "model_name": "FloatProgressModel",
          "model_module_version": "1.5.0",
          "state": {
            "_dom_classes": [],
            "_model_module": "@jupyter-widgets/controls",
            "_model_module_version": "1.5.0",
            "_model_name": "FloatProgressModel",
            "_view_count": null,
            "_view_module": "@jupyter-widgets/controls",
            "_view_module_version": "1.5.0",
            "_view_name": "ProgressView",
            "bar_style": "success",
            "description": "",
            "description_tooltip": null,
            "layout": "IPY_MODEL_058aa5c5d6da49d6bf4b55da26515042",
            "max": 2539,
            "min": 0,
            "orientation": "horizontal",
            "style": "IPY_MODEL_aea4e8991d784c36aac6cf73d5ae3aef",
            "value": 2539
          }
        },
        "ecb39e9b65dd462aaf7df10218096f10": {
          "model_module": "@jupyter-widgets/controls",
          "model_name": "HTMLModel",
          "model_module_version": "1.5.0",
          "state": {
            "_dom_classes": [],
            "_model_module": "@jupyter-widgets/controls",
            "_model_module_version": "1.5.0",
            "_model_name": "HTMLModel",
            "_view_count": null,
            "_view_module": "@jupyter-widgets/controls",
            "_view_module_version": "1.5.0",
            "_view_name": "HTMLView",
            "description": "",
            "description_tooltip": null,
            "layout": "IPY_MODEL_d1d75906bf97414f961e80c6742b01e3",
            "placeholder": "​",
            "style": "IPY_MODEL_34797956fe0b4473ba68c471f4e4866e",
            "value": " 2.54k/2.54k [00:00&lt;00:00, 182kB/s]"
          }
        },
        "4d998101f61a4907855c84dad5585f41": {
          "model_module": "@jupyter-widgets/base",
          "model_name": "LayoutModel",
          "model_module_version": "1.2.0",
          "state": {
            "_model_module": "@jupyter-widgets/base",
            "_model_module_version": "1.2.0",
            "_model_name": "LayoutModel",
            "_view_count": null,
            "_view_module": "@jupyter-widgets/base",
            "_view_module_version": "1.2.0",
            "_view_name": "LayoutView",
            "align_content": null,
            "align_items": null,
            "align_self": null,
            "border": null,
            "bottom": null,
            "display": null,
            "flex": null,
            "flex_flow": null,
            "grid_area": null,
            "grid_auto_columns": null,
            "grid_auto_flow": null,
            "grid_auto_rows": null,
            "grid_column": null,
            "grid_gap": null,
            "grid_row": null,
            "grid_template_areas": null,
            "grid_template_columns": null,
            "grid_template_rows": null,
            "height": null,
            "justify_content": null,
            "justify_items": null,
            "left": null,
            "margin": null,
            "max_height": null,
            "max_width": null,
            "min_height": null,
            "min_width": null,
            "object_fit": null,
            "object_position": null,
            "order": null,
            "overflow": null,
            "overflow_x": null,
            "overflow_y": null,
            "padding": null,
            "right": null,
            "top": null,
            "visibility": null,
            "width": null
          }
        },
        "b8e94e7667d04592b1c4d7ad624ced5d": {
          "model_module": "@jupyter-widgets/base",
          "model_name": "LayoutModel",
          "model_module_version": "1.2.0",
          "state": {
            "_model_module": "@jupyter-widgets/base",
            "_model_module_version": "1.2.0",
            "_model_name": "LayoutModel",
            "_view_count": null,
            "_view_module": "@jupyter-widgets/base",
            "_view_module_version": "1.2.0",
            "_view_name": "LayoutView",
            "align_content": null,
            "align_items": null,
            "align_self": null,
            "border": null,
            "bottom": null,
            "display": null,
            "flex": null,
            "flex_flow": null,
            "grid_area": null,
            "grid_auto_columns": null,
            "grid_auto_flow": null,
            "grid_auto_rows": null,
            "grid_column": null,
            "grid_gap": null,
            "grid_row": null,
            "grid_template_areas": null,
            "grid_template_columns": null,
            "grid_template_rows": null,
            "height": null,
            "justify_content": null,
            "justify_items": null,
            "left": null,
            "margin": null,
            "max_height": null,
            "max_width": null,
            "min_height": null,
            "min_width": null,
            "object_fit": null,
            "object_position": null,
            "order": null,
            "overflow": null,
            "overflow_x": null,
            "overflow_y": null,
            "padding": null,
            "right": null,
            "top": null,
            "visibility": null,
            "width": null
          }
        },
        "4d626ebb972241a88df905f2741b1a5f": {
          "model_module": "@jupyter-widgets/controls",
          "model_name": "DescriptionStyleModel",
          "model_module_version": "1.5.0",
          "state": {
            "_model_module": "@jupyter-widgets/controls",
            "_model_module_version": "1.5.0",
            "_model_name": "DescriptionStyleModel",
            "_view_count": null,
            "_view_module": "@jupyter-widgets/base",
            "_view_module_version": "1.2.0",
            "_view_name": "StyleView",
            "description_width": ""
          }
        },
        "058aa5c5d6da49d6bf4b55da26515042": {
          "model_module": "@jupyter-widgets/base",
          "model_name": "LayoutModel",
          "model_module_version": "1.2.0",
          "state": {
            "_model_module": "@jupyter-widgets/base",
            "_model_module_version": "1.2.0",
            "_model_name": "LayoutModel",
            "_view_count": null,
            "_view_module": "@jupyter-widgets/base",
            "_view_module_version": "1.2.0",
            "_view_name": "LayoutView",
            "align_content": null,
            "align_items": null,
            "align_self": null,
            "border": null,
            "bottom": null,
            "display": null,
            "flex": null,
            "flex_flow": null,
            "grid_area": null,
            "grid_auto_columns": null,
            "grid_auto_flow": null,
            "grid_auto_rows": null,
            "grid_column": null,
            "grid_gap": null,
            "grid_row": null,
            "grid_template_areas": null,
            "grid_template_columns": null,
            "grid_template_rows": null,
            "height": null,
            "justify_content": null,
            "justify_items": null,
            "left": null,
            "margin": null,
            "max_height": null,
            "max_width": null,
            "min_height": null,
            "min_width": null,
            "object_fit": null,
            "object_position": null,
            "order": null,
            "overflow": null,
            "overflow_x": null,
            "overflow_y": null,
            "padding": null,
            "right": null,
            "top": null,
            "visibility": null,
            "width": null
          }
        },
        "aea4e8991d784c36aac6cf73d5ae3aef": {
          "model_module": "@jupyter-widgets/controls",
          "model_name": "ProgressStyleModel",
          "model_module_version": "1.5.0",
          "state": {
            "_model_module": "@jupyter-widgets/controls",
            "_model_module_version": "1.5.0",
            "_model_name": "ProgressStyleModel",
            "_view_count": null,
            "_view_module": "@jupyter-widgets/base",
            "_view_module_version": "1.2.0",
            "_view_name": "StyleView",
            "bar_color": null,
            "description_width": ""
          }
        },
        "d1d75906bf97414f961e80c6742b01e3": {
          "model_module": "@jupyter-widgets/base",
          "model_name": "LayoutModel",
          "model_module_version": "1.2.0",
          "state": {
            "_model_module": "@jupyter-widgets/base",
            "_model_module_version": "1.2.0",
            "_model_name": "LayoutModel",
            "_view_count": null,
            "_view_module": "@jupyter-widgets/base",
            "_view_module_version": "1.2.0",
            "_view_name": "LayoutView",
            "align_content": null,
            "align_items": null,
            "align_self": null,
            "border": null,
            "bottom": null,
            "display": null,
            "flex": null,
            "flex_flow": null,
            "grid_area": null,
            "grid_auto_columns": null,
            "grid_auto_flow": null,
            "grid_auto_rows": null,
            "grid_column": null,
            "grid_gap": null,
            "grid_row": null,
            "grid_template_areas": null,
            "grid_template_columns": null,
            "grid_template_rows": null,
            "height": null,
            "justify_content": null,
            "justify_items": null,
            "left": null,
            "margin": null,
            "max_height": null,
            "max_width": null,
            "min_height": null,
            "min_width": null,
            "object_fit": null,
            "object_position": null,
            "order": null,
            "overflow": null,
            "overflow_x": null,
            "overflow_y": null,
            "padding": null,
            "right": null,
            "top": null,
            "visibility": null,
            "width": null
          }
        },
        "34797956fe0b4473ba68c471f4e4866e": {
          "model_module": "@jupyter-widgets/controls",
          "model_name": "DescriptionStyleModel",
          "model_module_version": "1.5.0",
          "state": {
            "_model_module": "@jupyter-widgets/controls",
            "_model_module_version": "1.5.0",
            "_model_name": "DescriptionStyleModel",
            "_view_count": null,
            "_view_module": "@jupyter-widgets/base",
            "_view_module_version": "1.2.0",
            "_view_name": "StyleView",
            "description_width": ""
          }
        },
        "57920951d2ea41b1917b038e2df5af59": {
          "model_module": "@jupyter-widgets/controls",
          "model_name": "HBoxModel",
          "model_module_version": "1.5.0",
          "state": {
            "_dom_classes": [],
            "_model_module": "@jupyter-widgets/controls",
            "_model_module_version": "1.5.0",
            "_model_name": "HBoxModel",
            "_view_count": null,
            "_view_module": "@jupyter-widgets/controls",
            "_view_module_version": "1.5.0",
            "_view_name": "HBoxView",
            "box_style": "",
            "children": [
              "IPY_MODEL_a6faceee94a9456e8d4dbc306e42bfd6",
              "IPY_MODEL_d36a949aff0f40d5b4ddf7f193adbee4",
              "IPY_MODEL_b38483f8b788453d83c82149eb5a9dda"
            ],
            "layout": "IPY_MODEL_7fa6aaf82fd344e4a6f55907d1228776"
          }
        },
        "a6faceee94a9456e8d4dbc306e42bfd6": {
          "model_module": "@jupyter-widgets/controls",
          "model_name": "HTMLModel",
          "model_module_version": "1.5.0",
          "state": {
            "_dom_classes": [],
            "_model_module": "@jupyter-widgets/controls",
            "_model_module_version": "1.5.0",
            "_model_name": "HTMLModel",
            "_view_count": null,
            "_view_module": "@jupyter-widgets/controls",
            "_view_module_version": "1.5.0",
            "_view_name": "HTMLView",
            "description": "",
            "description_tooltip": null,
            "layout": "IPY_MODEL_0cc7a6de09c44f31a28af1787579018c",
            "placeholder": "​",
            "style": "IPY_MODEL_7a14a549804b478bbc6928ace29bcbe8",
            "value": "Loading checkpoint shards: 100%"
          }
        },
        "d36a949aff0f40d5b4ddf7f193adbee4": {
          "model_module": "@jupyter-widgets/controls",
          "model_name": "FloatProgressModel",
          "model_module_version": "1.5.0",
          "state": {
            "_dom_classes": [],
            "_model_module": "@jupyter-widgets/controls",
            "_model_module_version": "1.5.0",
            "_model_name": "FloatProgressModel",
            "_view_count": null,
            "_view_module": "@jupyter-widgets/controls",
            "_view_module_version": "1.5.0",
            "_view_name": "ProgressView",
            "bar_style": "success",
            "description": "",
            "description_tooltip": null,
            "layout": "IPY_MODEL_e49dec095ddd4f40b319adb324539915",
            "max": 2,
            "min": 0,
            "orientation": "horizontal",
            "style": "IPY_MODEL_01f6fe1eb9c74a79991cb2bf0156c2bd",
            "value": 2
          }
        },
        "b38483f8b788453d83c82149eb5a9dda": {
          "model_module": "@jupyter-widgets/controls",
          "model_name": "HTMLModel",
          "model_module_version": "1.5.0",
          "state": {
            "_dom_classes": [],
            "_model_module": "@jupyter-widgets/controls",
            "_model_module_version": "1.5.0",
            "_model_name": "HTMLModel",
            "_view_count": null,
            "_view_module": "@jupyter-widgets/controls",
            "_view_module_version": "1.5.0",
            "_view_name": "HTMLView",
            "description": "",
            "description_tooltip": null,
            "layout": "IPY_MODEL_69aab81ccd584e48aca5652aa7b71f47",
            "placeholder": "​",
            "style": "IPY_MODEL_34565e479b5443b584e1f4bd68bfb323",
            "value": " 2/2 [00:07&lt;00:00,  3.12s/it]"
          }
        },
        "7fa6aaf82fd344e4a6f55907d1228776": {
          "model_module": "@jupyter-widgets/base",
          "model_name": "LayoutModel",
          "model_module_version": "1.2.0",
          "state": {
            "_model_module": "@jupyter-widgets/base",
            "_model_module_version": "1.2.0",
            "_model_name": "LayoutModel",
            "_view_count": null,
            "_view_module": "@jupyter-widgets/base",
            "_view_module_version": "1.2.0",
            "_view_name": "LayoutView",
            "align_content": null,
            "align_items": null,
            "align_self": null,
            "border": null,
            "bottom": null,
            "display": null,
            "flex": null,
            "flex_flow": null,
            "grid_area": null,
            "grid_auto_columns": null,
            "grid_auto_flow": null,
            "grid_auto_rows": null,
            "grid_column": null,
            "grid_gap": null,
            "grid_row": null,
            "grid_template_areas": null,
            "grid_template_columns": null,
            "grid_template_rows": null,
            "height": null,
            "justify_content": null,
            "justify_items": null,
            "left": null,
            "margin": null,
            "max_height": null,
            "max_width": null,
            "min_height": null,
            "min_width": null,
            "object_fit": null,
            "object_position": null,
            "order": null,
            "overflow": null,
            "overflow_x": null,
            "overflow_y": null,
            "padding": null,
            "right": null,
            "top": null,
            "visibility": null,
            "width": null
          }
        },
        "0cc7a6de09c44f31a28af1787579018c": {
          "model_module": "@jupyter-widgets/base",
          "model_name": "LayoutModel",
          "model_module_version": "1.2.0",
          "state": {
            "_model_module": "@jupyter-widgets/base",
            "_model_module_version": "1.2.0",
            "_model_name": "LayoutModel",
            "_view_count": null,
            "_view_module": "@jupyter-widgets/base",
            "_view_module_version": "1.2.0",
            "_view_name": "LayoutView",
            "align_content": null,
            "align_items": null,
            "align_self": null,
            "border": null,
            "bottom": null,
            "display": null,
            "flex": null,
            "flex_flow": null,
            "grid_area": null,
            "grid_auto_columns": null,
            "grid_auto_flow": null,
            "grid_auto_rows": null,
            "grid_column": null,
            "grid_gap": null,
            "grid_row": null,
            "grid_template_areas": null,
            "grid_template_columns": null,
            "grid_template_rows": null,
            "height": null,
            "justify_content": null,
            "justify_items": null,
            "left": null,
            "margin": null,
            "max_height": null,
            "max_width": null,
            "min_height": null,
            "min_width": null,
            "object_fit": null,
            "object_position": null,
            "order": null,
            "overflow": null,
            "overflow_x": null,
            "overflow_y": null,
            "padding": null,
            "right": null,
            "top": null,
            "visibility": null,
            "width": null
          }
        },
        "7a14a549804b478bbc6928ace29bcbe8": {
          "model_module": "@jupyter-widgets/controls",
          "model_name": "DescriptionStyleModel",
          "model_module_version": "1.5.0",
          "state": {
            "_model_module": "@jupyter-widgets/controls",
            "_model_module_version": "1.5.0",
            "_model_name": "DescriptionStyleModel",
            "_view_count": null,
            "_view_module": "@jupyter-widgets/base",
            "_view_module_version": "1.2.0",
            "_view_name": "StyleView",
            "description_width": ""
          }
        },
        "e49dec095ddd4f40b319adb324539915": {
          "model_module": "@jupyter-widgets/base",
          "model_name": "LayoutModel",
          "model_module_version": "1.2.0",
          "state": {
            "_model_module": "@jupyter-widgets/base",
            "_model_module_version": "1.2.0",
            "_model_name": "LayoutModel",
            "_view_count": null,
            "_view_module": "@jupyter-widgets/base",
            "_view_module_version": "1.2.0",
            "_view_name": "LayoutView",
            "align_content": null,
            "align_items": null,
            "align_self": null,
            "border": null,
            "bottom": null,
            "display": null,
            "flex": null,
            "flex_flow": null,
            "grid_area": null,
            "grid_auto_columns": null,
            "grid_auto_flow": null,
            "grid_auto_rows": null,
            "grid_column": null,
            "grid_gap": null,
            "grid_row": null,
            "grid_template_areas": null,
            "grid_template_columns": null,
            "grid_template_rows": null,
            "height": null,
            "justify_content": null,
            "justify_items": null,
            "left": null,
            "margin": null,
            "max_height": null,
            "max_width": null,
            "min_height": null,
            "min_width": null,
            "object_fit": null,
            "object_position": null,
            "order": null,
            "overflow": null,
            "overflow_x": null,
            "overflow_y": null,
            "padding": null,
            "right": null,
            "top": null,
            "visibility": null,
            "width": null
          }
        },
        "01f6fe1eb9c74a79991cb2bf0156c2bd": {
          "model_module": "@jupyter-widgets/controls",
          "model_name": "ProgressStyleModel",
          "model_module_version": "1.5.0",
          "state": {
            "_model_module": "@jupyter-widgets/controls",
            "_model_module_version": "1.5.0",
            "_model_name": "ProgressStyleModel",
            "_view_count": null,
            "_view_module": "@jupyter-widgets/base",
            "_view_module_version": "1.2.0",
            "_view_name": "StyleView",
            "bar_color": null,
            "description_width": ""
          }
        },
        "69aab81ccd584e48aca5652aa7b71f47": {
          "model_module": "@jupyter-widgets/base",
          "model_name": "LayoutModel",
          "model_module_version": "1.2.0",
          "state": {
            "_model_module": "@jupyter-widgets/base",
            "_model_module_version": "1.2.0",
            "_model_name": "LayoutModel",
            "_view_count": null,
            "_view_module": "@jupyter-widgets/base",
            "_view_module_version": "1.2.0",
            "_view_name": "LayoutView",
            "align_content": null,
            "align_items": null,
            "align_self": null,
            "border": null,
            "bottom": null,
            "display": null,
            "flex": null,
            "flex_flow": null,
            "grid_area": null,
            "grid_auto_columns": null,
            "grid_auto_flow": null,
            "grid_auto_rows": null,
            "grid_column": null,
            "grid_gap": null,
            "grid_row": null,
            "grid_template_areas": null,
            "grid_template_columns": null,
            "grid_template_rows": null,
            "height": null,
            "justify_content": null,
            "justify_items": null,
            "left": null,
            "margin": null,
            "max_height": null,
            "max_width": null,
            "min_height": null,
            "min_width": null,
            "object_fit": null,
            "object_position": null,
            "order": null,
            "overflow": null,
            "overflow_x": null,
            "overflow_y": null,
            "padding": null,
            "right": null,
            "top": null,
            "visibility": null,
            "width": null
          }
        },
        "34565e479b5443b584e1f4bd68bfb323": {
          "model_module": "@jupyter-widgets/controls",
          "model_name": "DescriptionStyleModel",
          "model_module_version": "1.5.0",
          "state": {
            "_model_module": "@jupyter-widgets/controls",
            "_model_module_version": "1.5.0",
            "_model_name": "DescriptionStyleModel",
            "_view_count": null,
            "_view_module": "@jupyter-widgets/base",
            "_view_module_version": "1.2.0",
            "_view_name": "StyleView",
            "description_width": ""
          }
        }
      }
    }
  },
  "nbformat": 4,
  "nbformat_minor": 0
}